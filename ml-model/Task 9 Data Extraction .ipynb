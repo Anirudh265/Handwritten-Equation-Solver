{
 "cells": [
  {
   "cell_type": "markdown",
   "id": "f977281d",
   "metadata": {},
   "source": [
    "# LGMVIP - Data Science Intern, April-2022\n",
    "## AUTHOR Name - Neetu Rani Paul\n",
    "\n",
    "## TASK 9 (Advanced Level Task) Handwritten equation solver using CNN \n",
    "\n",
    "Mathematical equation solver using character and symbol recognition using image processing and CNN.\n",
    "\n",
    "#### Dataset link : https://www.kaggle.com/xainano/handwrittenmathsymbols\n",
    "\n",
    "## Importing Libraries"
   ]
  },
  {
   "cell_type": "code",
   "execution_count": null,
   "id": "2ab2a282",
   "metadata": {},
   "outputs": [],
   "source": [
    "import numpy as np\n",
    "import cv2\n",
    "from PIL import Image\n",
    "from matplotlib import pyplot as plt\n",
    "%matplotlib inline\n",
    "import os\n",
    "from os import listdir\n",
    "from os.path import isfile, join\n",
    "import pandas as pd"
   ]
  },
  {
   "cell_type": "code",
   "execution_count": null,
   "id": "16ee99eb",
   "metadata": {},
   "outputs": [],
   "source": [
    "def load_images_from_folder(folder):\n",
    "    train_data=[]\n",
    "    for filename in os.listdir(folder):\n",
    "        img = cv2.imread(os.path.join(folder,filename),cv2.IMREAD_GRAYSCALE)\n",
    "   \n",
    "        img = cv2.cvtColor(img, cv2.COLOR_BGR2RGB)\n",
    "    \n",
    "        pixel_values = img.reshape((-1, 3))\n",
    "        \n",
    "        # convert to float\n",
    "        pixel_values = np.float32(pixel_values)\n",
    "        #K means with k=2\n",
    "        criteria = (cv2.TERM_CRITERIA_EPS + cv2.TERM_CRITERIA_MAX_ITER, 100, 0.2)\n",
    "        k = 2\n",
    "        _, labels, (centers) = cv2.kmeans(pixel_values, k, None,criteria, 10, cv2.KMEANS_RANDOM_CENTERS)\n",
    "        centers = np.uint8(centers)\n",
    "        centers2=np.uint8([[255,255,255],[0,0,0]])\n",
    "        # flatten the labels array\n",
    "        labels = labels.flatten()\n",
    "        segmented_image = centers2[labels.flatten()]\n",
    "        segmented_image = segmented_image.reshape(img.shape)\n",
    "        # show the image\n",
    "        if(segmented_image[0,0,0]!=0):\n",
    "            segmented_image=~segmented_image\n",
    "        img=segmented_image\n",
    "        flag=0\n",
    "        first=0\n",
    "        last=0\n",
    "        imglist=[]\n",
    "        flag2=0\n",
    "        firstfr=0\n",
    "        \n",
    "        #This for loop separates the segmented digits and operations\n",
    "        for i in range(img.shape[1]-6):\n",
    "            if np.sum(img[:,i,0])==0 :\n",
    "                if np.sum(img[:,firstfr+6,0])==0 :\n",
    "                    flag2=0\n",
    "                if np.sum(img[:,firstfr+6,0])!=0 :\n",
    "                    if flag==1:\n",
    "                        if np.sum(img[:,i+4,0])==0:\n",
    "                            last=i\n",
    "                            #cut here on right on middle +5\n",
    "                            imglist.append(img[:,first:last+2,:])\n",
    "                            first=i+2\n",
    "                            flag2=0\n",
    "                            flag=0\n",
    "\n",
    "                    continue\n",
    "            if np.sum(img[:,i,0])!=0:\n",
    "                if flag2==0:\n",
    "                    firstfr=i\n",
    "                flag2=1\n",
    "                flag=1\n",
    "                continue\n",
    "    \n",
    "        for m in range(len(imglist)):       \n",
    "            var0=np.var(imglist[m][:,:,0],axis=0)\n",
    "            var1=np.var(imglist[m][:,:,0],axis=1)\n",
    "            #to not remove indices from middle(for ''='' case)\n",
    "            indices0=[i for i in list(range(len(var0))) if var0[i]==0]\n",
    "            indices1=[i for i in list(range(len(var1)-5)) if var1[i]==0 and np.sum(var1[i+5])==0]\n",
    "            temp0=imglist[m]\n",
    "            temp0=np.delete(temp0,indices0,axis=1)\n",
    "            temp0=np.delete(temp0,indices1,axis=0)\n",
    "            temp0=np.pad(temp0[:,:,0],pad_width=20,mode='constant',constant_values=0)\n",
    "            temp0=np.repeat(temp0[:,:,np.newaxis],3,axis=2)\n",
    "            temp0 = temp0[:,:,0]\n",
    "            im_resize = cv2.resize(temp0,(32,32))   \n",
    "            im_resize=np.reshape(im_resize,(1024,1))\n",
    "            train_data.append(im_resize)\n",
    "    return train_data"
   ]
  },
  {
   "cell_type": "code",
   "execution_count": null,
   "id": "e63a311b",
   "metadata": {},
   "outputs": [],
   "source": [
    "data=[]"
   ]
  },
  {
   "cell_type": "code",
   "execution_count": null,
   "id": "1992b312",
   "metadata": {},
   "outputs": [],
   "source": [
    "# Assign '-' = 10\n",
    "data=load_images_from_folder('dataset//sub//')\n",
    "len(data)\n",
    "for i in range(0,len(data)):\n",
    "    data[i]=np.append(data[i],['10'])\n",
    "    \n",
    "print(len(data))"
   ]
  },
  {
   "cell_type": "code",
   "execution_count": null,
   "id": "3db9546c",
   "metadata": {},
   "outputs": [],
   "source": [
    "# Assign + = 11\n",
    "data11=load_images_from_folder('dataset//add//')\n",
    "\n",
    "for i in range(0,len(data11)):\n",
    "    data11[i]=np.append(data11[i],['11'])\n",
    "data=np.concatenate((data,data11))\n",
    "print(len(data))"
   ]
  },
  {
   "cell_type": "code",
   "execution_count": null,
   "id": "135c201c",
   "metadata": {},
   "outputs": [],
   "source": [
    "data0=load_images_from_folder('dataset//0//')\n",
    "\n",
    "for i in range(0,len(data0)):\n",
    "    data0[i]=np.append(data0[i],['0'])\n",
    "data=np.concatenate((data,data0))\n",
    "print(len(data))"
   ]
  },
  {
   "cell_type": "code",
   "execution_count": null,
   "id": "e434cb31",
   "metadata": {},
   "outputs": [],
   "source": [
    "data1=load_images_from_folder('dataset//1//')\n",
    "\n",
    "for i in range(0,len(data1)):\n",
    "    data1[i]=np.append(data1[i],['1'])\n",
    "data=np.concatenate((data,data1))\n",
    "print(len(data))"
   ]
  },
  {
   "cell_type": "code",
   "execution_count": null,
   "id": "ea6622cf",
   "metadata": {},
   "outputs": [],
   "source": [
    "data2=load_images_from_folder('dataset//2//')\n",
    "\n",
    "for i in range(0,len(data2)):\n",
    "    data2[i]=np.append(data2[i],['2'])\n",
    "data=np.concatenate((data,data2))\n",
    "print(len(data))"
   ]
  },
  {
   "cell_type": "code",
   "execution_count": null,
   "id": "cfaee1a6",
   "metadata": {},
   "outputs": [],
   "source": [
    "data3=load_images_from_folder('dataset//3//')\n",
    "\n",
    "for i in range(0,len(data3)):\n",
    "    data3[i]=np.append(data3[i],['3'])\n",
    "data=np.concatenate((data,data3))\n",
    "print(len(data))"
   ]
  },
  {
   "cell_type": "code",
   "execution_count": null,
   "id": "fbf2c56e",
   "metadata": {},
   "outputs": [],
   "source": [
    "data4=load_images_from_folder('dataset//4//')\n",
    "\n",
    "for i in range(0,len(data4)):\n",
    "    data4[i]=np.append(data4[i],['4'])\n",
    "data=np.concatenate((data,data4))\n",
    "print(len(data))"
   ]
  },
  {
   "cell_type": "code",
   "execution_count": null,
   "id": "e3bbd794",
   "metadata": {},
   "outputs": [],
   "source": [
    "data5=load_images_from_folder('dataset//5//')\n",
    "\n",
    "for i in range(0,len(data5)):\n",
    "    data5[i]=np.append(data5[i],['5'])\n",
    "data=np.concatenate((data,data5))\n",
    "print(len(data))"
   ]
  },
  {
   "cell_type": "code",
   "execution_count": null,
   "id": "bc175e96",
   "metadata": {},
   "outputs": [],
   "source": [
    "data6=load_images_from_folder('dataset//6//')\n",
    "\n",
    "for i in range(0,len(data6)):\n",
    "    data6[i]=np.append(data6[i],['6'])\n",
    "data=np.concatenate((data,data6))\n",
    "print(len(data))"
   ]
  },
  {
   "cell_type": "code",
   "execution_count": null,
   "id": "e4e6ac89",
   "metadata": {},
   "outputs": [],
   "source": [
    "data7=load_images_from_folder('dataset//7//')\n",
    "\n",
    "for i in range(0,len(data7)):\n",
    "    data7[i]=np.append(data7[i],['7'])\n",
    "data=np.concatenate((data,data7))\n",
    "print(len(data))"
   ]
  },
  {
   "cell_type": "code",
   "execution_count": null,
   "id": "a924f56f",
   "metadata": {},
   "outputs": [],
   "source": [
    "data8=load_images_from_folder('dataset//8//')\n",
    "\n",
    "for i in range(0,len(data8)):\n",
    "    data8[i]=np.append(data8[i],['8'])\n",
    "data=np.concatenate((data,data8))\n",
    "print(len(data))"
   ]
  },
  {
   "cell_type": "code",
   "execution_count": null,
   "id": "437483bc",
   "metadata": {},
   "outputs": [],
   "source": [
    "data9=load_images_from_folder('dataset//9//')\n",
    "\n",
    "for i in range(0,len(data9)):\n",
    "    data9[i]=np.append(data9[i],['9'])\n",
    "data=np.concatenate((data,data9))\n",
    "print(len(data))"
   ]
  },
  {
   "cell_type": "code",
   "execution_count": null,
   "id": "921fa29a",
   "metadata": {},
   "outputs": [],
   "source": [
    "data12=load_images_from_folder('dataset//eq//')\n",
    "\n",
    "for i in range(0,len(data12)):\n",
    "    data12[i]=np.append(data12[i],['12'])\n",
    "data=np.concatenate((data,data12))\n",
    "print(len(data))"
   ]
  },
  {
   "cell_type": "markdown",
   "id": "857519d7",
   "metadata": {},
   "source": []
  },
  {
   "cell_type": "code",
   "execution_count": null,
   "id": "26c93a12",
   "metadata": {},
   "outputs": [],
   "source": [
    "data13=load_images_from_folder('dataset//x//')\n",
    "\n",
    "for i in range(0,len(data13)):\n",
    "    data13[i]=np.append(data13[i],['13'])\n",
    "data=np.concatenate((data,data13))\n",
    "print(len(data))\n",
    "\n",
    "data14=load_images_from_folder('dataset//y//')\n",
    "\n",
    "for i in range(0,len(data14)):\n",
    "    data14[i]=np.append(data14[i],['14'])\n",
    "data=np.concatenate((data,data14))\n",
    "print(len(data))\n",
    "\n",
    "df=pd.DataFrame(data,index=None)\n",
    "df.to_csv('train_final.csv',index=False)"
   ]
  },
  {
   "cell_type": "markdown",
   "id": "efa25040",
   "metadata": {},
   "source": [
    "**Data Extraction has been completed**"
   ]
  }
 ],
 "metadata": {
  "kernelspec": {
   "display_name": "Python 3",
   "language": "python",
   "name": "python3"
  },
  "language_info": {
   "codemirror_mode": {
    "name": "ipython",
    "version": 3
   },
   "file_extension": ".py",
   "mimetype": "text/x-python",
   "name": "python",
   "nbconvert_exporter": "python",
   "pygments_lexer": "ipython3",
   "version": "3.8.8"
  }
 },
 "nbformat": 4,
 "nbformat_minor": 5
}
